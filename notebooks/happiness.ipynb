{
 "cells": [
  {
   "cell_type": "markdown",
   "id": "f52ad1b9-5275-44a3-9005-601973693853",
   "metadata": {},
   "source": [
    "# The Happiness Model\n",
    "\n",
    "\n",
    "$$\n",
    "H_n=\\sum^n_{t=1}eV-V\n",
    "\\tag{1}\n",
    "$$\n",
    "\n",
    "| Symbol | Description |\n",
    "| ------ | ----------- |\n",
    "| $H_n$ | Happieness  |\n",
    "| $n$ | Maximim number of timesteps |\n",
    "| $t$ | Timestep |\n",
    "| $e$ | The set of value gained at each timestep |\n",
    "| $V$ | Value model function |\n",
    "\n",
    "\n",
    "## Value Gained Set\n",
    "\n",
    "$$\n",
    "e \\in \\{ v_t, \\dots, v_n \\}\n",
    "\\tag{1}\n",
    "$$\n",
    "\n",
    "\n",
    "$$\n",
    "e \\in \\{ 1, 2, 3 \\}\n",
    "\\tag{1}\n",
    "$$\n",
    "\n",
    "\n",
    "$$\n",
    "e \\in \\{ 1, -2, 3 \\}\n",
    "\\tag{1}\n",
    "$$\n",
    "\n",
    "$$\n",
    "e \\in \\{ 0, 2, 3 \\}\n",
    "\\tag{1}\n",
    "$$\n",
    "\n",
    "## Value Model Function\n",
    "\n",
    "\n",
    "In equasion 2, value $V$ is a function of the accumulated up to the previous time step:\n",
    "\n",
    "$$V\n",
    "(H_{t-1})\n",
    "\\tag{1}\n",
    "$$\n",
    "\n",
    "\n",
    "The first example value model function demonstrates a pure individualist who always evaluates gaining a value as good and losing a value as bad:\n",
    "\n",
    "$$\n",
    "V(H_{t-1}) = 1\n",
    "\\tag{1}\n",
    "$$\n",
    "\n",
    "The next example value model function demonstrates a pure alturist who will always evaluates losing a value as good and gaining a value as bad: \n",
    "\n",
    "$$\n",
    "V(H_{t-1}) = -1\n",
    "\\tag{1}\n",
    "$$\n",
    "\n",
    "The final example value model function demonstrates a mixture of individualism and alturism who evaluates losing a value as good down to a threshold of 2. Below the threshold the individual will act in their own self-interest:\n",
    "\n",
    "$$\n",
    "V(H_{t-1}) = \\left\\{\n",
    "    \\begin{align}\n",
    "        -1  & \\text{ if } H_{t-1} > 2 \\\\\n",
    "        1 & \\text{ else}\n",
    "    \\end{align}\n",
    "    \\right.\n",
    "    \\tag{1}\n",
    "$$\n",
    "\n",
    "\n"
   ]
  },
  {
   "cell_type": "markdown",
   "id": "d7ed010a-e687-4e56-9578-2ff81cc0a6fe",
   "metadata": {},
   "source": [
    "## Example 1"
   ]
  },
  {
   "cell_type": "code",
   "execution_count": 90,
   "id": "b875aedb-b724-4b18-b85e-a1f66ae00951",
   "metadata": {},
   "outputs": [
    {
     "data": {
      "image/png": "[encoded data removed]",
      "text/plain": [
       "<Figure size 640x480 with 1 Axes>"
      ]
     },
     "metadata": {},
     "output_type": "display_data"
    }
   ],
   "source": [
    "import seaborn as sns\n",
    "import matplotlib.pyplot as plt\n",
    "import numpy as np\n",
    "import pandas as pd\n",
    "\n",
    "\n",
    "\n",
    "def H_fn(V, e):\n",
    "    result = []\n",
    "    for t, v_t in enumerate(e):\n",
    "        cur_V = V(sum(result))\n",
    "        result.append(v_t * cur_V - cur_V)\n",
    "        \n",
    "    return result\n",
    "        \n",
    "\n",
    "def plot_H(H, V: str):\n",
    "    H_cumsum = np.cumsum(H)\n",
    "    \n",
    "    ax = sns.lineplot(data=H_cumsum)\n",
    "    ax.set_title(\"$V(H_{t-1}) = 1$\")\n",
    "    ax.set_ylabel(\"H\")\n",
    "    ax.set_xlabel(\"t\")\n",
    "    ax.set_xticks(range(len(H_cumsum)))\n",
    "    ax.set_xticklabels(range(1, len(H_cumsum)+1))\n",
    "    ax.set_yticks(H_cumsum)\n",
    "    ax.set_yticklabels(H_cumsum)\n",
    "    ax.axhline(0, ls=\"--\", color=\"red\");\n",
    "    \n",
    "    return ax\n",
    "    \n",
    "\n",
    "\n",
    "\n",
    "\n",
    "\n",
    "sns.set(style='ticks',)\n",
    "\n",
    "\n",
    "e = [1,-2,3,4,5]\n",
    "plot_H(H=H_fn(V = lambda H_t: 1, e=e), V=\"$V(H_{t-1}) = 1$\");\n",
    "    \n",
    "    \n"
   ]
  },
  {
   "cell_type": "code",
   "execution_count": 76,
   "id": "c8a16ea6-51d7-480a-81da-faea279ffe6d",
   "metadata": {},
   "outputs": [
    {
     "data": {
      "text/html": [
       "<div>\n",
       "<style scoped>\n",
       "    .dataframe tbody tr th:only-of-type {\n",
       "        vertical-align: middle;\n",
       "    }\n",
       "\n",
       "    .dataframe tbody tr th {\n",
       "        vertical-align: top;\n",
       "    }\n",
       "\n",
       "    .dataframe thead th {\n",
       "        text-align: right;\n",
       "    }\n",
       "</style>\n",
       "<table border=\"1\" class=\"dataframe\">\n",
       "  <thead>\n",
       "    <tr style=\"text-align: right;\">\n",
       "      <th></th>\n",
       "      <th>H</th>\n",
       "    </tr>\n",
       "  </thead>\n",
       "  <tbody>\n",
       "    <tr>\n",
       "      <th>0</th>\n",
       "      <td>0</td>\n",
       "    </tr>\n",
       "    <tr>\n",
       "      <th>1</th>\n",
       "      <td>-5</td>\n",
       "    </tr>\n",
       "    <tr>\n",
       "      <th>2</th>\n",
       "      <td>-3</td>\n",
       "    </tr>\n",
       "    <tr>\n",
       "      <th>3</th>\n",
       "      <td>0</td>\n",
       "    </tr>\n",
       "    <tr>\n",
       "      <th>4</th>\n",
       "      <td>4</td>\n",
       "    </tr>\n",
       "  </tbody>\n",
       "</table>\n",
       "</div>"
      ],
      "text/plain": [
       "   H\n",
       "0  0\n",
       "1 -5\n",
       "2 -3\n",
       "3  0\n",
       "4  4"
      ]
     },
     "execution_count": 76,
     "metadata": {},
     "output_type": "execute_result"
    }
   ],
   "source": [
    "\n",
    "H_df = pd.DataFrame({\"H\": np.cumsum(H)})\n"
   ]
  },
  {
   "cell_type": "code",
   "execution_count": 23,
   "id": "311e29a4-1f75-423e-9d4d-634aa36010b8",
   "metadata": {},
   "outputs": [
    {
     "data": {
      "text/plain": [
       "21"
      ]
     },
     "execution_count": 23,
     "metadata": {},
     "output_type": "execute_result"
    }
   ],
   "source": [
    "sum(e)-len(e)"
   ]
  },
  {
   "cell_type": "code",
   "execution_count": 25,
   "id": "fb1b5249-8927-46ff-b4a3-a71be6e1cc38",
   "metadata": {},
   "outputs": [
    {
     "data": {
      "text/plain": [
       "1"
      ]
     },
     "execution_count": 25,
     "metadata": {},
     "output_type": "execute_result"
    }
   ],
   "source": [
    "V(234)"
   ]
  },
  {
   "cell_type": "code",
   "execution_count": null,
   "id": "55533d27-e2be-4504-9c4d-d43344eefe1e",
   "metadata": {},
   "outputs": [],
   "source": []
  }
 ],
 "metadata": {
  "kernelspec": {
   "display_name": "Python 3 (ipykernel)",
   "language": "python",
   "name": "python3"
  },
  "language_info": {
   "codemirror_mode": {
    "name": "ipython",
    "version": 3
   },
   "file_extension": ".py",
   "mimetype": "text/x-python",
   "name": "python",
   "nbconvert_exporter": "python",
   "pygments_lexer": "ipython3",
   "version": "3.10.6"
  }
 },
 "nbformat": 4,
 "nbformat_minor": 5
}
